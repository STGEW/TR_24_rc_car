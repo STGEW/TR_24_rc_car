{
 "cells": [
  {
   "cell_type": "code",
   "execution_count": 1,
   "id": "def0f3fc-4e18-4f23-a4fe-11ce4307b9bc",
   "metadata": {},
   "outputs": [],
   "source": [
    "from math import atan2, sqrt"
   ]
  },
  {
   "cell_type": "code",
   "execution_count": 3,
   "id": "6fa5356c-47c2-4ba1-bb96-470e92a06e8b",
   "metadata": {},
   "outputs": [],
   "source": [
    "path = [\n",
    "    [1.1, 2.2],\n",
    "    [5, 2.2],\n",
    "    [10, 2.2],\n",
    "    [10, 10],\n",
    "    [5, 10],\n",
    "    [5, 5],\n",
    "    [4, 4],\n",
    "    [3, 3],\n",
    "    [1.2, 1.2],\n",
    "    [3.5, 3.5],\n",
    "    [5.5, 5.5]\n",
    "]"
   ]
  },
  {
   "cell_type": "code",
   "execution_count": 10,
   "id": "67f87604-adf0-45a0-81b6-1c5796bd7be0",
   "metadata": {},
   "outputs": [
    {
     "name": "stdout",
     "output_type": "stream",
     "text": [
      "x: 5.00, y: 2.20 delta_x: 3.900 delta_y: 0.000\n",
      "x: 10.00, y: 2.20 delta_x: 8.900 delta_y: 0.000\n",
      "x: 10.00, y: 10.00 delta_x: 8.900 delta_y: 7.800\n",
      "x: 5.00, y: 10.00 delta_x: 3.900 delta_y: 7.800\n",
      "x: 5.00, y: 5.00 delta_x: 3.900 delta_y: 2.800\n",
      "x: 4.00, y: 4.00 delta_x: 2.900 delta_y: 1.800\n",
      "x: 3.00, y: 3.00 delta_x: 1.900 delta_y: 0.800\n",
      "x: 1.20, y: 1.20 delta_x: 0.100 delta_y: -1.000\n",
      "x: 3.50, y: 3.50 delta_x: 2.400 delta_y: 1.300\n",
      "x: 5.50, y: 5.50 delta_x: 4.400 delta_y: 3.300\n"
     ]
    }
   ],
   "source": [
    "x_prev = None\n",
    "y_prev = None\n",
    "for x, y in path:\n",
    "    if x_prev is None and y_prev is None:\n",
    "        x_prev = x\n",
    "        y_prev = y\n",
    "        continue\n",
    "    print(f'x: {x:.2f}, y: {y:.2f} delta_x: {delta_x:.3f} delta_y: {delta_y:.3f}')\n",
    "    delta_x = x - x_prev\n",
    "    delta_y = y - y_prev\n",
    "    phi = atan2(delta_y / delta_x)\n",
    "    "
   ]
  },
  {
   "cell_type": "code",
   "execution_count": 8,
   "id": "96cfa142-e0a5-48a0-a354-aa9b21c06b00",
   "metadata": {},
   "outputs": [],
   "source": [
    "def calc_central_point(x1, y1, x2, y2):\n",
    "    # calculate central point\n",
    "    # a, b, c???\n",
    "    # b != 0\n",
    "    numenator = x2**2 + (2 * c * y2) / b + y_2**2 - x_1**2 - 2 * c * y1 / b - y1**2\n",
    "    denominator = 2 * a * y1 / b - 2 * x1 - 2 * a * y2 / b + 2 * x2\n",
    "    xc = numenator / denominator\n",
    "\n",
    "    numenator = - (a * x_c + c)\n",
    "    denominator = b\n",
    "    yc = numenator / denominator\n",
    "    return xc, yc\n"
   ]
  },
  {
   "cell_type": "code",
   "execution_count": 6,
   "id": "73eac7ef-d22f-48ae-9832-3b48ff8b128e",
   "metadata": {},
   "outputs": [
    {
     "ename": "TypeError",
     "evalue": "Equality.__new__() missing 1 required positional argument: 'rhs'",
     "output_type": "error",
     "traceback": [
      "\u001b[0;31m---------------------------------------------------------------------------\u001b[0m",
      "\u001b[0;31mTypeError\u001b[0m                                 Traceback (most recent call last)",
      "Cell \u001b[0;32mIn[6], line 13\u001b[0m\n\u001b[1;32m     11\u001b[0m b \u001b[38;5;241m=\u001b[39m Symbol(\u001b[38;5;124m'\u001b[39m\u001b[38;5;124mb\u001b[39m\u001b[38;5;124m'\u001b[39m)\n\u001b[1;32m     12\u001b[0m c \u001b[38;5;241m=\u001b[39m Symbol(\u001b[38;5;124m'\u001b[39m\u001b[38;5;124mc\u001b[39m\u001b[38;5;124m'\u001b[39m)\n\u001b[0;32m---> 13\u001b[0m eq1\u001b[38;5;241m=\u001b[39m \u001b[43msp\u001b[49m\u001b[38;5;241;43m.\u001b[39;49m\u001b[43mEq\u001b[49m\u001b[43m(\u001b[49m\u001b[43m(\u001b[49m\u001b[43mx1\u001b[49m\u001b[38;5;241;43m-\u001b[39;49m\u001b[43mxc\u001b[49m\u001b[43m)\u001b[49m\u001b[38;5;241;43m*\u001b[39;49m\u001b[38;5;241;43m*\u001b[39;49m\u001b[38;5;241;43m2\u001b[39;49m\u001b[43m \u001b[49m\u001b[38;5;241;43m+\u001b[39;49m\u001b[43m \u001b[49m\u001b[43m(\u001b[49m\u001b[43my1\u001b[49m\u001b[43m \u001b[49m\u001b[38;5;241;43m-\u001b[39;49m\u001b[43m \u001b[49m\u001b[43myc\u001b[49m\u001b[43m)\u001b[49m\u001b[38;5;241;43m*\u001b[39;49m\u001b[38;5;241;43m*\u001b[39;49m\u001b[38;5;241;43m2\u001b[39;49m\u001b[43m \u001b[49m\u001b[38;5;241;43m-\u001b[39;49m\u001b[43m \u001b[49m\u001b[43m(\u001b[49m\u001b[43mx2\u001b[49m\u001b[43m \u001b[49m\u001b[38;5;241;43m-\u001b[39;49m\u001b[43m \u001b[49m\u001b[43mxc\u001b[49m\u001b[43m)\u001b[49m\u001b[38;5;241;43m*\u001b[39;49m\u001b[38;5;241;43m*\u001b[39;49m\u001b[38;5;241;43m2\u001b[39;49m\u001b[43m \u001b[49m\u001b[38;5;241;43m-\u001b[39;49m\u001b[43m \u001b[49m\u001b[43m(\u001b[49m\u001b[43my2\u001b[49m\u001b[43m \u001b[49m\u001b[38;5;241;43m-\u001b[39;49m\u001b[43m \u001b[49m\u001b[43myc\u001b[49m\u001b[43m)\u001b[49m\u001b[38;5;241;43m*\u001b[39;49m\u001b[38;5;241;43m*\u001b[39;49m\u001b[38;5;241;43m2\u001b[39;49m\u001b[43m)\u001b[49m \n\u001b[1;32m     14\u001b[0m eq2 \u001b[38;5;241m=\u001b[39m sp\u001b[38;5;241m.\u001b[39mEq(a\u001b[38;5;241m*\u001b[39mxc \u001b[38;5;241m+\u001b[39m b\u001b[38;5;241m*\u001b[39myc \u001b[38;5;241m+\u001b[39m c)\n\u001b[1;32m     15\u001b[0m eq3 \u001b[38;5;241m=\u001b[39m sp\u001b[38;5;241m.\u001b[39mEq(a\u001b[38;5;241m*\u001b[39mx2 \u001b[38;5;241m+\u001b[39m b\u001b[38;5;241m*\u001b[39my2 \u001b[38;5;241m+\u001b[39m c)\n",
      "\u001b[0;31mTypeError\u001b[0m: Equality.__new__() missing 1 required positional argument: 'rhs'"
     ]
    }
   ],
   "source": [
    "import sympy as sp\n",
    "from sympy.solvers import solve\n",
    "from sympy import Symbol\n",
    "x1 = Symbol('x1')\n",
    "x2 = Symbol('x2')\n",
    "y1 = Symbol('y1')\n",
    "y2 = Symbol('y2')\n",
    "xc = Symbol('xc')\n",
    "yc = Symbol('yc')\n",
    "a = Symbol('a')\n",
    "b = Symbol('b')\n",
    "c = Symbol('c')\n",
    "eq1= sp.Eq((x1-xc)**2 + (y1 - yc)**2 - (x2 - xc)**2 - (y2 - yc)**2) \n",
    "eq2 = sp.Eq(a*xc + b*yc + c)\n",
    "eq3 = sp.Eq(a*x2 + b*y2 + c)\n",
    "output = solve([eq1,eq2,eq3],dict=True)"
   ]
  },
  {
   "cell_type": "code",
   "execution_count": 8,
   "id": "a2c1cfcd-a57a-46d6-b821-327bf1cfc089",
   "metadata": {},
   "outputs": [],
   "source": [
    "def calc_delta_phi(x1, x2, y1, y2, xc, yc):\n",
    "    numenator = (xc - x1) * (xc - x2) + (yc - y1) * (yc - y2)\n",
    "    denominator = sqrt((xc - x1)**2 + (yc - y1)**2) * sqrt((xc - x2)**2 + (yc - y2)**2)\n",
    "    delta_phi = numenator / denominator\n",
    "    return delta_phi"
   ]
  },
  {
   "cell_type": "code",
   "execution_count": 1,
   "id": "e195afd7-d20c-499d-8dfe-208187dfc83a",
   "metadata": {},
   "outputs": [],
   "source": [
    "# x0, y0 - initial position of the wheel\n",
    "# Can be right or left\n",
    "def calc_delta_dist(delta_phi, xc, yc, x0, y0):\n",
    "    # plus/minus???\n",
    "    return delta_phi * sqrt((xc - x0)**2 + (yc - y0)**2)"
   ]
  },
  {
   "cell_type": "code",
   "execution_count": 9,
   "id": "bdd0ab3b-7dcc-4e9c-9829-a45e08067580",
   "metadata": {},
   "outputs": [
    {
     "ename": "NameError",
     "evalue": "name 'c' is not defined",
     "output_type": "error",
     "traceback": [
      "\u001b[0;31m---------------------------------------------------------------------------\u001b[0m",
      "\u001b[0;31mNameError\u001b[0m                                 Traceback (most recent call last)",
      "Cell \u001b[0;32mIn[9], line 3\u001b[0m\n\u001b[1;32m      1\u001b[0m x1, y1 \u001b[38;5;241m=\u001b[39m xy_arr\u001b[38;5;241m.\u001b[39mpop(\u001b[38;5;241m0\u001b[39m)\n\u001b[1;32m      2\u001b[0m \u001b[38;5;28;01mfor\u001b[39;00m x2, y2 \u001b[38;5;129;01min\u001b[39;00m xy_arr:\n\u001b[0;32m----> 3\u001b[0m     xc, yc \u001b[38;5;241m=\u001b[39m \u001b[43mcalc_central_point\u001b[49m\u001b[43m(\u001b[49m\u001b[43mx1\u001b[49m\u001b[43m,\u001b[49m\u001b[43m \u001b[49m\u001b[43my1\u001b[49m\u001b[43m,\u001b[49m\u001b[43m \u001b[49m\u001b[43mx2\u001b[49m\u001b[43m,\u001b[49m\u001b[43m \u001b[49m\u001b[43my2\u001b[49m\u001b[43m)\u001b[49m\n\u001b[1;32m      4\u001b[0m     \u001b[38;5;28mprint\u001b[39m(xc, yc)\n\u001b[1;32m      5\u001b[0m     x1, y1 \u001b[38;5;241m=\u001b[39m x2, y2\n",
      "Cell \u001b[0;32mIn[8], line 5\u001b[0m, in \u001b[0;36mcalc_central_point\u001b[0;34m(x1, y1, x2, y2)\u001b[0m\n\u001b[1;32m      1\u001b[0m \u001b[38;5;28;01mdef\u001b[39;00m \u001b[38;5;21mcalc_central_point\u001b[39m(x1, y1, x2, y2):\n\u001b[1;32m      2\u001b[0m     \u001b[38;5;66;03m# calculate central point\u001b[39;00m\n\u001b[1;32m      3\u001b[0m     \u001b[38;5;66;03m# a, b, c???\u001b[39;00m\n\u001b[1;32m      4\u001b[0m     \u001b[38;5;66;03m# b != 0\u001b[39;00m\n\u001b[0;32m----> 5\u001b[0m     numenator \u001b[38;5;241m=\u001b[39m x2\u001b[38;5;241m*\u001b[39m\u001b[38;5;241m*\u001b[39m\u001b[38;5;241m2\u001b[39m \u001b[38;5;241m+\u001b[39m (\u001b[38;5;241m2\u001b[39m \u001b[38;5;241m*\u001b[39m \u001b[43mc\u001b[49m \u001b[38;5;241m*\u001b[39m y2) \u001b[38;5;241m/\u001b[39m b \u001b[38;5;241m+\u001b[39m y_2\u001b[38;5;241m*\u001b[39m\u001b[38;5;241m*\u001b[39m\u001b[38;5;241m2\u001b[39m \u001b[38;5;241m-\u001b[39m x_1\u001b[38;5;241m*\u001b[39m\u001b[38;5;241m*\u001b[39m\u001b[38;5;241m2\u001b[39m \u001b[38;5;241m-\u001b[39m \u001b[38;5;241m2\u001b[39m \u001b[38;5;241m*\u001b[39m c \u001b[38;5;241m*\u001b[39m y1 \u001b[38;5;241m/\u001b[39m b \u001b[38;5;241m-\u001b[39m y1\u001b[38;5;241m*\u001b[39m\u001b[38;5;241m*\u001b[39m\u001b[38;5;241m2\u001b[39m\n\u001b[1;32m      6\u001b[0m     denominator \u001b[38;5;241m=\u001b[39m \u001b[38;5;241m2\u001b[39m \u001b[38;5;241m*\u001b[39m a \u001b[38;5;241m*\u001b[39m y1 \u001b[38;5;241m/\u001b[39m b \u001b[38;5;241m-\u001b[39m \u001b[38;5;241m2\u001b[39m \u001b[38;5;241m*\u001b[39m x1 \u001b[38;5;241m-\u001b[39m \u001b[38;5;241m2\u001b[39m \u001b[38;5;241m*\u001b[39m a \u001b[38;5;241m*\u001b[39m y2 \u001b[38;5;241m/\u001b[39m b \u001b[38;5;241m+\u001b[39m \u001b[38;5;241m2\u001b[39m \u001b[38;5;241m*\u001b[39m x2\n\u001b[1;32m      7\u001b[0m     xc \u001b[38;5;241m=\u001b[39m numenator \u001b[38;5;241m/\u001b[39m denominator\n",
      "\u001b[0;31mNameError\u001b[0m: name 'c' is not defined"
     ]
    }
   ],
   "source": [
    "x1, y1 = xy_arr.pop(0)\n",
    "for x2, y2 in xy_arr:\n",
    "    xc, yc = calc_central_point(x1, y1, x2, y2)\n",
    "    print(xc, yc)\n",
    "    x1, y1 = x2, y2"
   ]
  }
 ],
 "metadata": {
  "kernelspec": {
   "display_name": "Python 3 (ipykernel)",
   "language": "python",
   "name": "python3"
  },
  "language_info": {
   "codemirror_mode": {
    "name": "ipython",
    "version": 3
   },
   "file_extension": ".py",
   "mimetype": "text/x-python",
   "name": "python",
   "nbconvert_exporter": "python",
   "pygments_lexer": "ipython3",
   "version": "3.12.0"
  }
 },
 "nbformat": 4,
 "nbformat_minor": 5
}
