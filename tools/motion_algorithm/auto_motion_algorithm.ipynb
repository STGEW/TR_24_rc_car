{
 "cells": [
  {
   "cell_type": "code",
   "execution_count": 1,
   "id": "def0f3fc-4e18-4f23-a4fe-11ce4307b9bc",
   "metadata": {},
   "outputs": [],
   "source": [
    "from math import atan2, sqrt, pi"
   ]
  },
  {
   "cell_type": "code",
   "execution_count": 2,
   "id": "cb0b6830-cbd3-4108-96f0-a8f9066512c0",
   "metadata": {},
   "outputs": [],
   "source": [
    "wheels_base = 0.20 # wheels base (distance)\n",
    "wheel_radius = 0.065\n",
    "max_n = 20"
   ]
  },
  {
   "cell_type": "code",
   "execution_count": 3,
   "id": "6fa5356c-47c2-4ba1-bb96-470e92a06e8b",
   "metadata": {},
   "outputs": [],
   "source": [
    "path = [\n",
    "    [0.0, 0.0],\n",
    "    [1.1, 2.2],\n",
    "    [5, 2.2],\n",
    "    [10, 2.2],\n",
    "    [10, 10],\n",
    "    [5, 10],\n",
    "    [5, 5],\n",
    "    [4, 4],\n",
    "    [3, 3],\n",
    "    [1.2, 1.2],\n",
    "    [3.5, 3.5],\n",
    "    [5.5, 5.5]\n",
    "]"
   ]
  },
  {
   "cell_type": "code",
   "execution_count": 4,
   "id": "96cfa142-e0a5-48a0-a354-aa9b21c06b00",
   "metadata": {},
   "outputs": [],
   "source": [
    "# Motion along the line\n",
    "def calc_delta_n_for_dist(delta_d, wheel_radius):\n",
    "    # R - wheel radius\n",
    "    # max_n - count of holes in odometer\n",
    "    # 2 * pi * R ~ max_n\n",
    "    # delta_d - n\n",
    "    R = wheel_radius\n",
    "    n = (delta_d * max_n) / (2 * pi * R) \n",
    "    return n"
   ]
  },
  {
   "cell_type": "code",
   "execution_count": 5,
   "id": "73eac7ef-d22f-48ae-9832-3b48ff8b128e",
   "metadata": {},
   "outputs": [],
   "source": [
    "# a question - how many n's should be to rotate on the angle phi?\n",
    "# input: phi\n",
    "# output: n (or -n)\n",
    "\n",
    "# parameters:\n",
    "# wheels_base - dist in m between wheels\n",
    "# wheel_radius - radius of the wheel in meters?\n",
    "\n",
    "# step 1\n",
    "# convert phi into the distance (meters)\n",
    "# 2 * pi * (wheels_base / 2.0) ~ 2 * pi\n",
    "# x (a dist in meters) ~ phi\n",
    "# x =  phi * (wheels_base / 2.0) <- dist m\n",
    "\n",
    "def convert_phi_to_dist_m(phi, wheels_base):\n",
    "    dist_m = phi * (wheels_base / 2.0)\n",
    "    print(f'For phi: {phi:.3f} dist: {dist_m:.3f}')\n",
    "    return dist_m\n",
    "\n",
    "# step 2\n",
    "# convert dist in meters to n (count of holes for the odometer)\n",
    "# 2 * pi * wheel_radius ~ max_n\n",
    "# dist ~ n\n",
    "# n = (dist * max_n) / (2 * pi * wheel_radius)\n",
    "\n",
    "def convert_dist_m_to_n(dist_m, max_n, wheel_radius):\n",
    "    n = (dist_m * max_n) / (2 * pi * wheel_radius)\n",
    "    print(f'For dist_m: {dist_m:.3f} n: {n:.3f}')\n",
    "    return n"
   ]
  },
  {
   "cell_type": "code",
   "execution_count": 6,
   "id": "01f1662e-f5f6-47ab-aa71-f128cc47fa5e",
   "metadata": {},
   "outputs": [],
   "source": [
    "def convert_phi_to_n(phi, wheels_base, wheel_radius, max_n):\n",
    "    dist_m = convert_phi_to_dist_m(phi, wheels_base)\n",
    "    n = convert_dist_m_to_n(dist_m, max_n, wheel_radius)\n",
    "    return n"
   ]
  },
  {
   "cell_type": "code",
   "execution_count": 7,
   "id": "29473a89-67e5-4a04-8d8f-aa9a180cbc33",
   "metadata": {},
   "outputs": [
    {
     "name": "stdout",
     "output_type": "stream",
     "text": [
      "For phi: 6.283 dist: 0.628\n",
      "For dist_m: 0.628 n: 30.769\n",
      "30.769230769230766\n"
     ]
    }
   ],
   "source": [
    "phi = 2 * pi\n",
    "n = convert_phi_to_n(phi, wheels_base, wheel_radius, max_n)\n",
    "print(n)"
   ]
  },
  {
   "cell_type": "code",
   "execution_count": 8,
   "id": "f5e9d623-4e86-43ce-b499-4ade3c49d296",
   "metadata": {},
   "outputs": [],
   "source": [
    "# x1, y1 - coordinates of the initial point\n",
    "# phi1 - angle of the initial point\n",
    "# x2, y2 - coordinated of the next point\n",
    "def calc_from_points_dist_and_angle(\n",
    "        x1, y1, phi1, x2, y2,\n",
    "        heels_base, wheel_radius, max_n):\n",
    "\n",
    "    delta_phi = atan2(y2 - y1, x2 - x1)\n",
    "    dist_m = sqrt((x2 - x1)**2 + (y2 - y1)**2)\n",
    "\n",
    "    # step 1 - change phi angle\n",
    "    angle_n = convert_phi_to_n(delta_phi, wheels_base, wheel_radius, max_n)\n",
    "    phi2 = phi1 + delta_phi\n",
    "\n",
    "    # step 2 - change dist\n",
    "    dist_n = convert_dist_m_to_n(dist_m, max_n, wheel_radius)\n",
    "\n",
    "    return angle_n, dist_n, phi2"
   ]
  },
  {
   "cell_type": "code",
   "execution_count": 9,
   "id": "bfc97818-bbf8-4ae6-8794-3c33de607b26",
   "metadata": {},
   "outputs": [
    {
     "name": "stdout",
     "output_type": "stream",
     "text": [
      "x1: 0.00, y1: 0.00, x2: 1.10, y2: 2.20, phi1: 1.571\n",
      "For phi: 1.107 dist: 0.111\n",
      "For dist_m: 0.111 n: 5.422\n",
      "For dist_m: 2.460 n: 120.452\n",
      "Angle n: 5.42, dist n: 120.45, phi2: 2.68\n",
      "x1: 1.10, y1: 2.20, x2: 5.00, y2: 2.20, phi1: 2.678\n",
      "For phi: 0.000 dist: 0.000\n",
      "For dist_m: 0.000 n: 0.000\n",
      "For dist_m: 3.900 n: 190.986\n",
      "Angle n: 0.00, dist n: 190.99, phi2: 2.68\n",
      "x1: 5.00, y1: 2.20, x2: 10.00, y2: 2.20, phi1: 2.678\n",
      "For phi: 0.000 dist: 0.000\n",
      "For dist_m: 0.000 n: 0.000\n",
      "For dist_m: 5.000 n: 244.854\n",
      "Angle n: 0.00, dist n: 244.85, phi2: 2.68\n",
      "x1: 10.00, y1: 2.20, x2: 10.00, y2: 10.00, phi1: 2.678\n",
      "For phi: 1.571 dist: 0.157\n",
      "For dist_m: 0.157 n: 7.692\n",
      "For dist_m: 7.800 n: 381.972\n",
      "Angle n: 7.69, dist n: 381.97, phi2: 4.25\n",
      "x1: 10.00, y1: 10.00, x2: 5.00, y2: 10.00, phi1: 4.249\n",
      "For phi: 3.142 dist: 0.314\n",
      "For dist_m: 0.314 n: 15.385\n",
      "For dist_m: 5.000 n: 244.854\n",
      "Angle n: 15.38, dist n: 244.85, phi2: 7.39\n",
      "x1: 5.00, y1: 10.00, x2: 5.00, y2: 5.00, phi1: 7.390\n",
      "For phi: -1.571 dist: -0.157\n",
      "For dist_m: -0.157 n: -7.692\n",
      "For dist_m: 5.000 n: 244.854\n",
      "Angle n: -7.69, dist n: 244.85, phi2: 5.82\n",
      "x1: 5.00, y1: 5.00, x2: 4.00, y2: 4.00, phi1: 5.820\n",
      "For phi: -2.356 dist: -0.236\n",
      "For dist_m: -0.236 n: -11.538\n",
      "For dist_m: 1.414 n: 69.255\n",
      "Angle n: -11.54, dist n: 69.26, phi2: 3.46\n",
      "x1: 4.00, y1: 4.00, x2: 3.00, y2: 3.00, phi1: 3.463\n",
      "For phi: -2.356 dist: -0.236\n",
      "For dist_m: -0.236 n: -11.538\n",
      "For dist_m: 1.414 n: 69.255\n",
      "Angle n: -11.54, dist n: 69.26, phi2: 1.11\n",
      "x1: 3.00, y1: 3.00, x2: 1.20, y2: 1.20, phi1: 1.107\n",
      "For phi: -2.356 dist: -0.236\n",
      "For dist_m: -0.236 n: -11.538\n",
      "For dist_m: 2.546 n: 124.659\n",
      "Angle n: -11.54, dist n: 124.66, phi2: -1.25\n",
      "x1: 1.20, y1: 1.20, x2: 3.50, y2: 3.50, phi1: -1.249\n",
      "For phi: 0.785 dist: 0.079\n",
      "For dist_m: 0.079 n: 3.846\n",
      "For dist_m: 3.253 n: 159.287\n",
      "Angle n: 3.85, dist n: 159.29, phi2: -0.46\n",
      "x1: 3.50, y1: 3.50, x2: 5.50, y2: 5.50, phi1: -0.464\n",
      "For phi: 0.785 dist: 0.079\n",
      "For dist_m: 0.079 n: 3.846\n",
      "For dist_m: 2.828 n: 138.510\n",
      "Angle n: 3.85, dist n: 138.51, phi2: 0.32\n"
     ]
    }
   ],
   "source": [
    "x1, y1, phi1 = None, None, pi / 2.0\n",
    "res = []\n",
    "for x2, y2 in path:\n",
    "    if x1 is None and y1 is None:\n",
    "        x1, y1 = x2, y2\n",
    "        continue\n",
    "    print(\n",
    "        f'x1: {x1:.2f}, y1: {y1:.2f}, '\n",
    "        f'x2: {x2:.2f}, y2: {y2:.2f}, '\n",
    "        f'phi1: {phi1:.3f}')\n",
    "    angle_n, dist_n, phi2 = calc_from_points_dist_and_angle(\n",
    "        x1, y1,\n",
    "        phi1,\n",
    "        x2, y2,\n",
    "        wheels_base, wheel_radius, max_n)\n",
    "    print(\n",
    "        f'Angle n: {angle_n:.2f}, dist n: {dist_n:.2f}, '\n",
    "        f'phi2: {phi2:.2f}')\n",
    "    res.append([angle_n, dist_n, phi2])\n",
    "    x1, y1, phi1 = x2, y2, phi2\n",
    "# print(res)"
   ]
  }
 ],
 "metadata": {
  "kernelspec": {
   "display_name": "Python 3 (ipykernel)",
   "language": "python",
   "name": "python3"
  },
  "language_info": {
   "codemirror_mode": {
    "name": "ipython",
    "version": 3
   },
   "file_extension": ".py",
   "mimetype": "text/x-python",
   "name": "python",
   "nbconvert_exporter": "python",
   "pygments_lexer": "ipython3",
   "version": "3.10.12"
  }
 },
 "nbformat": 4,
 "nbformat_minor": 5
}
